{
 "cells": [
  {
   "cell_type": "code",
   "execution_count": 1,
   "metadata": {},
   "outputs": [
    {
     "name": "stderr",
     "output_type": "stream",
     "text": [
      "d:\\anaconda3\\envs\\transformers\\lib\\site-packages\\tqdm\\auto.py:21: TqdmWarning: IProgress not found. Please update jupyter and ipywidgets. See https://ipywidgets.readthedocs.io/en/stable/user_install.html\n",
      "  from .autonotebook import tqdm as notebook_tqdm\n"
     ]
    }
   ],
   "source": [
    "import torch\n",
    "import torch.nn as nn\n",
    "import math\n",
    "from transformers import BertTokenizer\n",
    "from bertviz.transformers_neuron_view import BertModel, BertConfig"
   ]
  },
  {
   "cell_type": "code",
   "execution_count": 2,
   "metadata": {},
   "outputs": [
    {
     "data": {
      "text/plain": [
       "BertModel(\n",
       "  (embeddings): BertEmbeddings(\n",
       "    (word_embeddings): Embedding(30522, 768, padding_idx=0)\n",
       "    (position_embeddings): Embedding(512, 768)\n",
       "    (token_type_embeddings): Embedding(2, 768)\n",
       "    (LayerNorm): BertLayerNorm()\n",
       "    (dropout): Dropout(p=0.1, inplace=False)\n",
       "  )\n",
       "  (encoder): BertEncoder(\n",
       "    (layer): ModuleList(\n",
       "      (0-11): 12 x BertLayer(\n",
       "        (attention): BertAttention(\n",
       "          (self): BertSelfAttention(\n",
       "            (query): Linear(in_features=768, out_features=768, bias=True)\n",
       "            (key): Linear(in_features=768, out_features=768, bias=True)\n",
       "            (value): Linear(in_features=768, out_features=768, bias=True)\n",
       "            (dropout): Dropout(p=0.1, inplace=False)\n",
       "          )\n",
       "          (output): BertSelfOutput(\n",
       "            (dense): Linear(in_features=768, out_features=768, bias=True)\n",
       "            (LayerNorm): BertLayerNorm()\n",
       "            (dropout): Dropout(p=0.1, inplace=False)\n",
       "          )\n",
       "        )\n",
       "        (intermediate): BertIntermediate(\n",
       "          (dense): Linear(in_features=768, out_features=3072, bias=True)\n",
       "        )\n",
       "        (output): BertOutput(\n",
       "          (dense): Linear(in_features=3072, out_features=768, bias=True)\n",
       "          (LayerNorm): BertLayerNorm()\n",
       "          (dropout): Dropout(p=0.1, inplace=False)\n",
       "        )\n",
       "      )\n",
       "    )\n",
       "  )\n",
       "  (pooler): BertPooler(\n",
       "    (dense): Linear(in_features=768, out_features=768, bias=True)\n",
       "    (activation): Tanh()\n",
       "  )\n",
       ")"
      ]
     },
     "execution_count": 2,
     "metadata": {},
     "output_type": "execute_result"
    }
   ],
   "source": [
    "# model config and load\n",
    "max_length = 256\n",
    "model_name = 'bert-base-uncased'\n",
    "config = BertConfig.from_pretrained(model_name, output_attentions=True,\n",
    "                                    output_hidden_states=True,\n",
    "                                    return_dict=True)\n",
    "tokenizer = BertTokenizer.from_pretrained(model_name)\n",
    "config.max_position_embeddings = max_length\n",
    "model = BertModel(config).from_pretrained(model_name)\n",
    "model.eval()"
   ]
  },
  {
   "cell_type": "code",
   "execution_count": 4,
   "metadata": {},
   "outputs": [
    {
     "data": {
      "text/plain": [
       "{\n",
       "  \"architectures\": [\n",
       "    \"BertForMaskedLM\"\n",
       "  ],\n",
       "  \"attention_probs_dropout_prob\": 0.1,\n",
       "  \"finetuning_task\": null,\n",
       "  \"hidden_act\": \"gelu\",\n",
       "  \"hidden_dropout_prob\": 0.1,\n",
       "  \"hidden_size\": 768,\n",
       "  \"initializer_range\": 0.02,\n",
       "  \"intermediate_size\": 3072,\n",
       "  \"layer_norm_eps\": 1e-12,\n",
       "  \"max_position_embeddings\": 512,\n",
       "  \"model_type\": \"bert\",\n",
       "  \"num_attention_heads\": 12,\n",
       "  \"num_hidden_layers\": 12,\n",
       "  \"num_labels\": 2,\n",
       "  \"output_attentions\": true,\n",
       "  \"output_hidden_states\": false,\n",
       "  \"pad_token_id\": 0,\n",
       "  \"torchscript\": false,\n",
       "  \"type_vocab_size\": 2,\n",
       "  \"vocab_size\": 30522\n",
       "}"
      ]
     },
     "execution_count": 4,
     "metadata": {},
     "output_type": "execute_result"
    }
   ],
   "source": [
    "model.config"
   ]
  },
  {
   "cell_type": "code",
   "execution_count": 5,
   "metadata": {},
   "outputs": [
    {
     "data": {
      "text/plain": [
       "64"
      ]
     },
     "execution_count": 5,
     "metadata": {},
     "output_type": "execute_result"
    }
   ],
   "source": [
    "attn_head_size = int(model.config.hidden_size / model.config.num_attention_heads)\n",
    "attn_head_size"
   ]
  },
  {
   "cell_type": "code",
   "execution_count": 6,
   "metadata": {},
   "outputs": [
    {
     "data": {
      "text/plain": [
       "BertEncoder(\n",
       "  (layer): ModuleList(\n",
       "    (0-11): 12 x BertLayer(\n",
       "      (attention): BertAttention(\n",
       "        (self): BertSelfAttention(\n",
       "          (query): Linear(in_features=768, out_features=768, bias=True)\n",
       "          (key): Linear(in_features=768, out_features=768, bias=True)\n",
       "          (value): Linear(in_features=768, out_features=768, bias=True)\n",
       "          (dropout): Dropout(p=0.1, inplace=False)\n",
       "        )\n",
       "        (output): BertSelfOutput(\n",
       "          (dense): Linear(in_features=768, out_features=768, bias=True)\n",
       "          (LayerNorm): BertLayerNorm()\n",
       "          (dropout): Dropout(p=0.1, inplace=False)\n",
       "        )\n",
       "      )\n",
       "      (intermediate): BertIntermediate(\n",
       "        (dense): Linear(in_features=768, out_features=3072, bias=True)\n",
       "      )\n",
       "      (output): BertOutput(\n",
       "        (dense): Linear(in_features=3072, out_features=768, bias=True)\n",
       "        (LayerNorm): BertLayerNorm()\n",
       "        (dropout): Dropout(p=0.1, inplace=False)\n",
       "      )\n",
       "    )\n",
       "  )\n",
       ")"
      ]
     },
     "execution_count": 6,
     "metadata": {},
     "output_type": "execute_result"
    }
   ],
   "source": [
    "model.encoder"
   ]
  },
  {
   "cell_type": "code",
   "execution_count": 3,
   "metadata": {},
   "outputs": [],
   "source": [
    "# data\n",
    "from sklearn.datasets import fetch_20newsgroups\n",
    "news_data = fetch_20newsgroups(subset='train')\n",
    "input_data = tokenizer(news_data['data'][:1], truncation=True, padding=True, max_length=max_length, return_tensors='pt')"
   ]
  },
  {
   "cell_type": "code",
   "execution_count": 8,
   "metadata": {},
   "outputs": [
    {
     "name": "stdout",
     "output_type": "stream",
     "text": [
      "dict_keys(['input_ids', 'token_type_ids', 'attention_mask'])\n",
      "torch.Size([1, 201])\n"
     ]
    }
   ],
   "source": [
    "print(input_data.keys())\n",
    "print(input_data['input_ids'].shape)"
   ]
  },
  {
   "cell_type": "code",
   "execution_count": 4,
   "metadata": {},
   "outputs": [],
   "source": [
    "# model output\n",
    "outputs = model(**input_data)"
   ]
  },
  {
   "cell_type": "code",
   "execution_count": null,
   "metadata": {},
   "outputs": [],
   "source": [
    "# outputs[0] : [1, 201, 768]\n",
    "# outputs[1]: [1, 768]\n",
    "# outputs[2]: 12"
   ]
  },
  {
   "cell_type": "code",
   "execution_count": 12,
   "metadata": {},
   "outputs": [
    {
     "name": "stdout",
     "output_type": "stream",
     "text": [
      "attn torch.Size([1, 12, 201, 201])\n",
      "queries torch.Size([1, 12, 201, 64])\n",
      "keys torch.Size([1, 12, 201, 64])\n",
      "attn torch.Size([1, 12, 201, 201])\n",
      "queries torch.Size([1, 12, 201, 64])\n",
      "keys torch.Size([1, 12, 201, 64])\n",
      "attn torch.Size([1, 12, 201, 201])\n",
      "queries torch.Size([1, 12, 201, 64])\n",
      "keys torch.Size([1, 12, 201, 64])\n",
      "attn torch.Size([1, 12, 201, 201])\n",
      "queries torch.Size([1, 12, 201, 64])\n",
      "keys torch.Size([1, 12, 201, 64])\n",
      "attn torch.Size([1, 12, 201, 201])\n",
      "queries torch.Size([1, 12, 201, 64])\n",
      "keys torch.Size([1, 12, 201, 64])\n",
      "attn torch.Size([1, 12, 201, 201])\n",
      "queries torch.Size([1, 12, 201, 64])\n",
      "keys torch.Size([1, 12, 201, 64])\n",
      "attn torch.Size([1, 12, 201, 201])\n",
      "queries torch.Size([1, 12, 201, 64])\n",
      "keys torch.Size([1, 12, 201, 64])\n",
      "attn torch.Size([1, 12, 201, 201])\n",
      "queries torch.Size([1, 12, 201, 64])\n",
      "keys torch.Size([1, 12, 201, 64])\n",
      "attn torch.Size([1, 12, 201, 201])\n",
      "queries torch.Size([1, 12, 201, 64])\n",
      "keys torch.Size([1, 12, 201, 64])\n",
      "attn torch.Size([1, 12, 201, 201])\n",
      "queries torch.Size([1, 12, 201, 64])\n",
      "keys torch.Size([1, 12, 201, 64])\n",
      "attn torch.Size([1, 12, 201, 201])\n",
      "queries torch.Size([1, 12, 201, 64])\n",
      "keys torch.Size([1, 12, 201, 64])\n",
      "attn torch.Size([1, 12, 201, 201])\n",
      "queries torch.Size([1, 12, 201, 64])\n",
      "keys torch.Size([1, 12, 201, 64])\n"
     ]
    }
   ],
   "source": [
    "for x in range(len(outputs[2])):\n",
    "    for i, j in outputs[2][x].items():\n",
    "        print(i, j.shape)"
   ]
  },
  {
   "cell_type": "code",
   "execution_count": 10,
   "metadata": {},
   "outputs": [
    {
     "data": {
      "text/plain": [
       "dict_keys(['attn', 'queries', 'keys'])"
      ]
     },
     "execution_count": 10,
     "metadata": {},
     "output_type": "execute_result"
    }
   ],
   "source": [
    "outputs[-1][0].keys()"
   ]
  },
  {
   "cell_type": "code",
   "execution_count": 11,
   "metadata": {},
   "outputs": [
    {
     "data": {
      "text/plain": [
       "torch.Size([1, 12, 201, 201])"
      ]
     },
     "execution_count": 11,
     "metadata": {},
     "output_type": "execute_result"
    }
   ],
   "source": [
    "outputs[-1][0]['attn'].shape"
   ]
  },
  {
   "cell_type": "code",
   "execution_count": 12,
   "metadata": {},
   "outputs": [
    {
     "data": {
      "text/plain": [
       "torch.Size([1, 201, 768])"
      ]
     },
     "execution_count": 12,
     "metadata": {},
     "output_type": "execute_result"
    }
   ],
   "source": [
    "emd_output = model.embeddings(input_data['input_ids'], input_data['token_type_ids'])\n",
    "emd_output.shape"
   ]
  },
  {
   "cell_type": "code",
   "execution_count": 14,
   "metadata": {},
   "outputs": [
    {
     "data": {
      "text/plain": [
       "tensor([[ 0.7090, -0.1532, -0.0324,  ..., -0.1861, -1.1897, -0.3917],\n",
       "        [ 0.9676,  0.0748,  0.2025,  ...,  0.7521,  0.4138,  0.1224],\n",
       "        [ 0.8280, -0.0809,  0.5322,  ...,  0.1444,  0.3582, -0.0987],\n",
       "        ...,\n",
       "        [ 0.9873, -0.7626,  0.3701,  ..., -0.7065,  0.7049, -0.3984],\n",
       "        [ 1.0845, -0.9601,  0.4284,  ..., -0.8086,  0.8632, -0.7072],\n",
       "        [ 0.3943, -0.4631, -0.3239,  ..., -0.1489, -0.8662, -0.1141]],\n",
       "       grad_fn=<AddBackward0>)"
      ]
     },
     "execution_count": 14,
     "metadata": {},
     "output_type": "execute_result"
    }
   ],
   "source": [
    "Q_first_head_first_layer = emd_output[0] @ model.encoder.layer[0].attention.self.query.weight.T[:, :attn_head_size] \\\n",
    "                           + model.encoder.layer[0].attention.self.query.bias[:attn_head_size]\n",
    "Q_first_head_first_layer"
   ]
  },
  {
   "cell_type": "code",
   "execution_count": 15,
   "metadata": {},
   "outputs": [
    {
     "data": {
      "text/plain": [
       "tensor([[ 1.2797,  0.2204,  0.2408,  ...,  0.5843, -0.4191,  0.9194],\n",
       "        [-0.5851, -0.5868, -0.1607,  ...,  1.0473,  0.0725, -0.3103],\n",
       "        [-0.5147, -0.5780,  0.0156,  ...,  0.4617,  0.3585, -0.3786],\n",
       "        ...,\n",
       "        [-0.6989,  1.2598,  0.1314,  ...,  0.0398,  0.6206, -1.6981],\n",
       "        [-1.0770,  1.2705, -0.0528,  ..., -0.2308,  0.5101, -1.7183],\n",
       "        [-1.3563,  1.7390, -0.0489,  ..., -0.6310,  0.2154,  0.9688]],\n",
       "       grad_fn=<AddBackward0>)"
      ]
     },
     "execution_count": 15,
     "metadata": {},
     "output_type": "execute_result"
    }
   ],
   "source": [
    "K_first_head_first_layer = emd_output[0] @ model.encoder.layer[0].attention.self.key.weight.T[:, :attn_head_size] \\\n",
    "                           + model.encoder.layer[0].attention.self.key.bias[:attn_head_size]\n",
    "K_first_head_first_layer"
   ]
  },
  {
   "cell_type": "code",
   "execution_count": 18,
   "metadata": {},
   "outputs": [
    {
     "data": {
      "text/plain": [
       "tensor([[0.0053, 0.0109, 0.0052,  ..., 0.0039, 0.0036, 0.0144],\n",
       "        [0.0086, 0.0041, 0.0125,  ..., 0.0045, 0.0041, 0.0071],\n",
       "        [0.0051, 0.0043, 0.0046,  ..., 0.0043, 0.0045, 0.0031],\n",
       "        ...,\n",
       "        [0.0010, 0.0023, 0.0055,  ..., 0.0012, 0.0018, 0.0011],\n",
       "        [0.0010, 0.0023, 0.0057,  ..., 0.0012, 0.0017, 0.0007],\n",
       "        [0.0022, 0.0056, 0.0063,  ..., 0.0045, 0.0048, 0.0015]],\n",
       "       grad_fn=<SoftmaxBackward0>)"
      ]
     },
     "execution_count": 18,
     "metadata": {},
     "output_type": "execute_result"
    }
   ],
   "source": [
    "attn_scores = torch.nn.Softmax(dim=-1)(Q_first_head_first_layer @ K_first_head_first_layer.T / math.sqrt(attn_head_size))\n",
    "attn_scores"
   ]
  },
  {
   "cell_type": "code",
   "execution_count": 19,
   "metadata": {},
   "outputs": [
    {
     "data": {
      "text/plain": [
       "tensor([[0.0053, 0.0109, 0.0052,  ..., 0.0039, 0.0036, 0.0144],\n",
       "        [0.0086, 0.0041, 0.0125,  ..., 0.0045, 0.0041, 0.0071],\n",
       "        [0.0051, 0.0043, 0.0046,  ..., 0.0043, 0.0045, 0.0031],\n",
       "        ...,\n",
       "        [0.0010, 0.0023, 0.0055,  ..., 0.0012, 0.0018, 0.0011],\n",
       "        [0.0010, 0.0023, 0.0057,  ..., 0.0012, 0.0017, 0.0007],\n",
       "        [0.0022, 0.0056, 0.0063,  ..., 0.0045, 0.0048, 0.0015]],\n",
       "       grad_fn=<SliceBackward0>)"
      ]
     },
     "execution_count": 19,
     "metadata": {},
     "output_type": "execute_result"
    }
   ],
   "source": [
    "outputs[-1][0]['attn'][0, 0, :, :]"
   ]
  },
  {
   "cell_type": "code",
   "execution_count": 21,
   "metadata": {},
   "outputs": [
    {
     "data": {
      "text/plain": [
       "torch.Size([201, 64])"
      ]
     },
     "execution_count": 21,
     "metadata": {},
     "output_type": "execute_result"
    }
   ],
   "source": [
    "V_first_head_first_layer = emd_output[0] @ model.encoder.layer[0].attention.self.value.weight.T[:, :attn_head_size] \\\n",
    "                           + model.encoder.layer[0].attention.self.value.bias[:attn_head_size]\n",
    "attn_emb = attn_scores @ V_first_head_first_layer\n",
    "attn_emb.shape"
   ]
  }
 ],
 "metadata": {
  "kernelspec": {
   "display_name": "transformers",
   "language": "python",
   "name": "python3"
  },
  "language_info": {
   "codemirror_mode": {
    "name": "ipython",
    "version": 3
   },
   "file_extension": ".py",
   "mimetype": "text/x-python",
   "name": "python",
   "nbconvert_exporter": "python",
   "pygments_lexer": "ipython3",
   "version": "3.9.17"
  },
  "orig_nbformat": 4
 },
 "nbformat": 4,
 "nbformat_minor": 2
}
