{
 "cells": [
  {
   "cell_type": "code",
   "execution_count": 18,
   "metadata": {},
   "outputs": [
    {
     "name": "stderr",
     "output_type": "stream",
     "text": [
      "Some weights of the model checkpoint at bert-base-uncased were not used when initializing BertForMaskedLM: ['cls.seq_relationship.bias', 'cls.seq_relationship.weight']\n",
      "- This IS expected if you are initializing BertForMaskedLM from the checkpoint of a model trained on another task or with another architecture (e.g. initializing a BertForSequenceClassification model from a BertForPreTraining model).\n",
      "- This IS NOT expected if you are initializing BertForMaskedLM from the checkpoint of a model that you expect to be exactly identical (initializing a BertForSequenceClassification model from a BertForSequenceClassification model).\n",
      "Some weights of the model checkpoint at bert-base-uncased were not used when initializing BertModel: ['cls.predictions.bias', 'cls.predictions.transform.dense.weight', 'cls.seq_relationship.bias', 'cls.seq_relationship.weight', 'cls.predictions.transform.LayerNorm.weight', 'cls.predictions.transform.LayerNorm.bias', 'cls.predictions.transform.dense.bias']\n",
      "- This IS expected if you are initializing BertModel from the checkpoint of a model trained on another task or with another architecture (e.g. initializing a BertForSequenceClassification model from a BertForPreTraining model).\n",
      "- This IS NOT expected if you are initializing BertModel from the checkpoint of a model that you expect to be exactly identical (initializing a BertForSequenceClassification model from a BertForSequenceClassification model).\n"
     ]
    }
   ],
   "source": [
    "import torch\n",
    "import torch.nn as nn\n",
    "from transformers.models.bert import BertModel, BertTokenizer, BertForMaskedLM\n",
    "model_name = 'bert-base-uncased'\n",
    "tokenizer = BertTokenizer.from_pretrained(model_name)\n",
    "mask_model = BertForMaskedLM.from_pretrained(model_name, output_hidden_states=True)\n",
    "bert_model = BertModel.from_pretrained(model_name)"
   ]
  },
  {
   "cell_type": "code",
   "execution_count": 2,
   "metadata": {},
   "outputs": [],
   "source": [
    "text = (\"After Abraham Lincoln won the November 1860 presidential\"\n",
    "        \"election on an anti-slavery platform, an initial seven\"\n",
    "        \"slave states declared their secession from the country\"\n",
    "        \"to form the Confederacy. War broke out in April 1861\"\n",
    "        \"when secessionist forces attacked Fort Sumter in South\"\n",
    "        \"Carolina, just over a month after Lincoln's\"\n",
    "        \"inauguration.\")"
   ]
  },
  {
   "cell_type": "code",
   "execution_count": 3,
   "metadata": {},
   "outputs": [
    {
     "data": {
      "text/plain": [
       "{'input_ids': tensor([[  101,  2044,  8181,  5367,  2180,  1996,  2281,  7313,  4883, 12260,\n",
       "          7542,  2006,  2019,  3424,  1011,  8864,  4132,  1010,  2019,  3988,\n",
       "         19463, 14973,  2063,  2163,  4161,  2037, 22965,  2013,  1996,  2406,\n",
       "          3406,  2433,  1996, 18179,  1012,  2162,  3631,  2041,  1999,  2258,\n",
       "          6863,  2860, 10222, 22965,  2923,  2749,  4457,  3481,  7680,  3334,\n",
       "          1999,  2148, 10010, 18861,  2050,  1010,  2074,  2058,  1037,  3204,\n",
       "          2044,  5367,  1005,  8254,  4887, 27390,  3370,  1012,   102]]), 'token_type_ids': tensor([[0, 0, 0, 0, 0, 0, 0, 0, 0, 0, 0, 0, 0, 0, 0, 0, 0, 0, 0, 0, 0, 0, 0, 0,\n",
       "         0, 0, 0, 0, 0, 0, 0, 0, 0, 0, 0, 0, 0, 0, 0, 0, 0, 0, 0, 0, 0, 0, 0, 0,\n",
       "         0, 0, 0, 0, 0, 0, 0, 0, 0, 0, 0, 0, 0, 0, 0, 0, 0, 0, 0, 0, 0]]), 'attention_mask': tensor([[1, 1, 1, 1, 1, 1, 1, 1, 1, 1, 1, 1, 1, 1, 1, 1, 1, 1, 1, 1, 1, 1, 1, 1,\n",
       "         1, 1, 1, 1, 1, 1, 1, 1, 1, 1, 1, 1, 1, 1, 1, 1, 1, 1, 1, 1, 1, 1, 1, 1,\n",
       "         1, 1, 1, 1, 1, 1, 1, 1, 1, 1, 1, 1, 1, 1, 1, 1, 1, 1, 1, 1, 1]])}"
      ]
     },
     "execution_count": 3,
     "metadata": {},
     "output_type": "execute_result"
    }
   ],
   "source": [
    "inputs = tokenizer(text, return_tensors='pt')\n",
    "inputs"
   ]
  },
  {
   "cell_type": "code",
   "execution_count": 4,
   "metadata": {},
   "outputs": [
    {
     "data": {
      "text/plain": [
       "\"[CLS] after abraham lincoln won the november 1860 presidential ##ele ##ction on an anti - slavery platform , an initial sevens ##lav ##e states declared their secession from the country ##to form the confederacy . war broke out in april 1861 ##w ##hen secession ##ist forces attacked fort sum ##ter in south ##car ##olin ##a , just over a month after lincoln ' sin ##au ##gur ##ation . [SEP]\""
      ]
     },
     "execution_count": 4,
     "metadata": {},
     "output_type": "execute_result"
    }
   ],
   "source": [
    "' '.join(tokenizer.convert_ids_to_tokens(inputs['input_ids'][0]))"
   ]
  },
  {
   "cell_type": "code",
   "execution_count": 5,
   "metadata": {},
   "outputs": [
    {
     "data": {
      "text/plain": [
       "tensor([[  101,  2044,  8181,  5367,  2180,  1996,  2281,  7313,  4883, 12260,\n",
       "          7542,  2006,  2019,  3424,  1011,  8864,  4132,  1010,  2019,  3988,\n",
       "         19463, 14973,  2063,  2163,  4161,  2037, 22965,  2013,  1996,  2406,\n",
       "          3406,  2433,  1996, 18179,  1012,  2162,  3631,  2041,  1999,  2258,\n",
       "          6863,  2860, 10222, 22965,  2923,  2749,  4457,  3481,  7680,  3334,\n",
       "          1999,  2148, 10010, 18861,  2050,  1010,  2074,  2058,  1037,  3204,\n",
       "          2044,  5367,  1005,  8254,  4887, 27390,  3370,  1012,   102]])"
      ]
     },
     "execution_count": 5,
     "metadata": {},
     "output_type": "execute_result"
    }
   ],
   "source": [
    "inputs['labels'] = inputs['input_ids'].detach().clone()\n",
    "inputs['labels']"
   ]
  },
  {
   "cell_type": "code",
   "execution_count": 6,
   "metadata": {},
   "outputs": [
    {
     "data": {
      "text/plain": [
       "tensor([[False, False, False, False, False, False, False, False, False,  True,\n",
       "         False,  True, False,  True, False, False, False, False, False, False,\n",
       "         False, False, False,  True, False, False, False, False, False, False,\n",
       "         False,  True,  True, False, False, False, False, False, False, False,\n",
       "          True, False, False, False, False, False,  True, False, False, False,\n",
       "         False, False, False, False, False, False, False, False,  True, False,\n",
       "         False, False, False, False, False, False, False, False, False]])"
      ]
     },
     "execution_count": 6,
     "metadata": {},
     "output_type": "execute_result"
    }
   ],
   "source": [
    "mask = torch.rand(inputs['input_ids'].shape) < 0.15\n",
    "mask"
   ]
  },
  {
   "cell_type": "code",
   "execution_count": 7,
   "metadata": {},
   "outputs": [
    {
     "data": {
      "text/plain": [
       "tensor(9)"
      ]
     },
     "execution_count": 7,
     "metadata": {},
     "output_type": "execute_result"
    }
   ],
   "source": [
    "sum(mask[0])"
   ]
  },
  {
   "cell_type": "code",
   "execution_count": 8,
   "metadata": {},
   "outputs": [
    {
     "data": {
      "text/plain": [
       "tensor([[False, False, False, False, False,  True, False, False, False,  True,\n",
       "         False, False, False, False, False, False,  True,  True, False, False,\n",
       "         False,  True, False, False, False, False, False, False, False, False,\n",
       "         False, False, False, False,  True,  True, False, False, False, False,\n",
       "         False, False, False, False, False, False, False, False,  True, False,\n",
       "         False, False,  True, False,  True, False, False, False, False,  True,\n",
       "         False,  True, False, False, False,  True, False, False, False]])"
      ]
     },
     "execution_count": 8,
     "metadata": {},
     "output_type": "execute_result"
    }
   ],
   "source": [
    "mask_arr = (torch.rand(inputs['input_ids'].shape) < 0.15) \\\n",
    "            * (inputs['input_ids'] != 101) \\\n",
    "            * (inputs['input_ids'] != 102)\n",
    "mask_arr"
   ]
  },
  {
   "cell_type": "code",
   "execution_count": 9,
   "metadata": {},
   "outputs": [
    {
     "data": {
      "text/plain": [
       "tensor(13)"
      ]
     },
     "execution_count": 9,
     "metadata": {},
     "output_type": "execute_result"
    }
   ],
   "source": [
    "sum(mask_arr[0])"
   ]
  },
  {
   "cell_type": "code",
   "execution_count": 10,
   "metadata": {},
   "outputs": [
    {
     "data": {
      "text/plain": [
       "[5, 9, 16, 17, 21, 34, 35, 48, 52, 54, 59, 61, 65]"
      ]
     },
     "execution_count": 10,
     "metadata": {},
     "output_type": "execute_result"
    }
   ],
   "source": [
    "selection = torch.flatten(mask_arr[0].nonzero()).tolist()\n",
    "selection"
   ]
  },
  {
   "cell_type": "code",
   "execution_count": 11,
   "metadata": {},
   "outputs": [
    {
     "data": {
      "text/plain": [
       "{'unk_token': '[UNK]',\n",
       " 'sep_token': '[SEP]',\n",
       " 'pad_token': '[PAD]',\n",
       " 'cls_token': '[CLS]',\n",
       " 'mask_token': '[MASK]'}"
      ]
     },
     "execution_count": 11,
     "metadata": {},
     "output_type": "execute_result"
    }
   ],
   "source": [
    "tokenizer.special_tokens_map"
   ]
  },
  {
   "cell_type": "code",
   "execution_count": 12,
   "metadata": {},
   "outputs": [
    {
     "data": {
      "text/plain": [
       "103"
      ]
     },
     "execution_count": 12,
     "metadata": {},
     "output_type": "execute_result"
    }
   ],
   "source": [
    "tokenizer.vocab['[MASK]']"
   ]
  },
  {
   "cell_type": "code",
   "execution_count": 16,
   "metadata": {},
   "outputs": [
    {
     "data": {
      "text/plain": [
       "{'input_ids': tensor([[  101,  2044,  8181,  5367,  2180,   103,  2281,  7313,  4883,   103,\n",
       "          7542,  2006,  2019,  3424,  1011,  8864,   103,   103,  2019,  3988,\n",
       "         19463,   103,  2063,  2163,  4161,  2037, 22965,  2013,  1996,  2406,\n",
       "          3406,  2433,  1996, 18179,   103,   103,  3631,  2041,  1999,  2258,\n",
       "          6863,  2860, 10222, 22965,  2923,  2749,  4457,  3481,   103,  3334,\n",
       "          1999,  2148,   103, 18861,   103,  1010,  2074,  2058,  1037,   103,\n",
       "          2044,   103,  1005,  8254,  4887,   103,  3370,  1012,   102]]), 'token_type_ids': tensor([[0, 0, 0, 0, 0, 0, 0, 0, 0, 0, 0, 0, 0, 0, 0, 0, 0, 0, 0, 0, 0, 0, 0, 0,\n",
       "         0, 0, 0, 0, 0, 0, 0, 0, 0, 0, 0, 0, 0, 0, 0, 0, 0, 0, 0, 0, 0, 0, 0, 0,\n",
       "         0, 0, 0, 0, 0, 0, 0, 0, 0, 0, 0, 0, 0, 0, 0, 0, 0, 0, 0, 0, 0]]), 'attention_mask': tensor([[1, 1, 1, 1, 1, 1, 1, 1, 1, 1, 1, 1, 1, 1, 1, 1, 1, 1, 1, 1, 1, 1, 1, 1,\n",
       "         1, 1, 1, 1, 1, 1, 1, 1, 1, 1, 1, 1, 1, 1, 1, 1, 1, 1, 1, 1, 1, 1, 1, 1,\n",
       "         1, 1, 1, 1, 1, 1, 1, 1, 1, 1, 1, 1, 1, 1, 1, 1, 1, 1, 1, 1, 1]]), 'labels': tensor([[  101,  2044,  8181,  5367,  2180,  1996,  2281,  7313,  4883, 12260,\n",
       "          7542,  2006,  2019,  3424,  1011,  8864,  4132,  1010,  2019,  3988,\n",
       "         19463, 14973,  2063,  2163,  4161,  2037, 22965,  2013,  1996,  2406,\n",
       "          3406,  2433,  1996, 18179,  1012,  2162,  3631,  2041,  1999,  2258,\n",
       "          6863,  2860, 10222, 22965,  2923,  2749,  4457,  3481,  7680,  3334,\n",
       "          1999,  2148, 10010, 18861,  2050,  1010,  2074,  2058,  1037,  3204,\n",
       "          2044,  5367,  1005,  8254,  4887, 27390,  3370,  1012,   102]])}"
      ]
     },
     "execution_count": 16,
     "metadata": {},
     "output_type": "execute_result"
    }
   ],
   "source": [
    "inputs['input_ids'][0, selection] = 103\n",
    "inputs"
   ]
  },
  {
   "cell_type": "code",
   "execution_count": 19,
   "metadata": {},
   "outputs": [
    {
     "name": "stdout",
     "output_type": "stream",
     "text": [
      "odict_keys(['loss', 'logits', 'hidden_states'])\n"
     ]
    }
   ],
   "source": [
    "mask_model.eval()\n",
    "with torch.no_grad():\n",
    "    output = mask_model(**inputs)\n",
    "print(output.keys())"
   ]
  },
  {
   "cell_type": "code",
   "execution_count": 20,
   "metadata": {},
   "outputs": [
    {
     "name": "stdout",
     "output_type": "stream",
     "text": [
      "[CLS] after abraham lincoln won [MASK] november 1860 presidential [MASK] ##ction on an anti - slavery [MASK] [MASK] an initial sevens [MASK] ##e states declared their secession from the country ##to form the confederacy [MASK] [MASK] broke out in april 1861 ##w ##hen secession ##ist forces attacked fort [MASK] ##ter in south [MASK] ##olin [MASK] , just over a [MASK] after [MASK] ' sin ##au [MASK] ##ation . [SEP]\n",
      "[CLS] after abraham lincoln won the november 1860 presidential ##ele ##ction on an anti - slavery platform , an initial sevens ##lav ##e states declared their secession from the country ##to form the confederacy . war broke out in april 1861 ##w ##hen secession ##ist forces attacked fort sum ##ter in south ##car ##olin ##a , just over a month after lincoln ' sin ##au ##gur ##ation . [SEP]\n"
     ]
    }
   ],
   "source": [
    "print(' '.join(tokenizer.convert_ids_to_tokens(inputs['input_ids'][0])))\n",
    "print(' '.join(tokenizer.convert_ids_to_tokens(inputs['labels'][0])))"
   ]
  },
  {
   "cell_type": "code",
   "execution_count": 21,
   "metadata": {},
   "outputs": [
    {
     "data": {
      "text/plain": [
       "tensor(1.6067)"
      ]
     },
     "execution_count": 21,
     "metadata": {},
     "output_type": "execute_result"
    }
   ],
   "source": [
    "output.loss"
   ]
  },
  {
   "cell_type": "code",
   "execution_count": 22,
   "metadata": {},
   "outputs": [
    {
     "data": {
      "text/plain": [
       "tensor([[[ -6.8337,  -6.7744,  -6.8105,  ...,  -6.1299,  -6.0010,  -4.1379],\n",
       "         [-12.1095, -12.0216, -12.0979,  ..., -11.4863, -10.2372,  -8.4398],\n",
       "         [ -9.1826,  -9.5961,  -8.7345,  ...,  -7.3722,  -7.6503,  -7.4925],\n",
       "         ...,\n",
       "         [ -3.6290,  -3.7880,  -3.7578,  ...,  -1.7270,  -2.5607,  -4.2280],\n",
       "         [-14.1795, -13.9226, -14.0570,  ..., -10.8943, -10.2256,  -7.2893],\n",
       "         [-13.3265, -13.4253, -13.3261,  ..., -10.3934,  -9.7086,  -5.9747]]])"
      ]
     },
     "execution_count": 22,
     "metadata": {},
     "output_type": "execute_result"
    }
   ],
   "source": [
    "output.logits"
   ]
  },
  {
   "cell_type": "code",
   "execution_count": 23,
   "metadata": {},
   "outputs": [
    {
     "name": "stdout",
     "output_type": "stream",
     "text": [
      "<class 'tuple'>\n",
      "13\n"
     ]
    }
   ],
   "source": [
    "print(type(output.hidden_states))\n",
    "print(len(output.hidden_states))"
   ]
  }
 ],
 "metadata": {
  "kernelspec": {
   "display_name": "transformers",
   "language": "python",
   "name": "python3"
  },
  "language_info": {
   "codemirror_mode": {
    "name": "ipython",
    "version": 3
   },
   "file_extension": ".py",
   "mimetype": "text/x-python",
   "name": "python",
   "nbconvert_exporter": "python",
   "pygments_lexer": "ipython3",
   "version": "3.9.17"
  },
  "orig_nbformat": 4
 },
 "nbformat": 4,
 "nbformat_minor": 2
}
